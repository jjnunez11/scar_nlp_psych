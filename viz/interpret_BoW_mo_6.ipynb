{
 "cells": [
  {
   "cell_type": "code",
   "execution_count": 2,
   "id": "fe216e5a",
   "metadata": {},
   "outputs": [
    {
     "name": "stdout",
     "output_type": "stream",
     "text": [
      "LogisticRegression(C=1, class_weight='balanced', max_iter=1000)\n",
      "[[ 0.33156618 -0.75487329  1.31435757 ... -2.09381789  0.29718209\n",
      "  -0.27903499]] [1.99843779]\n"
     ]
    }
   ],
   "source": [
    "import os\n",
    "import sys\n",
    "sys.path.insert(0, os.path.abspath('../'))\n",
    "import bz2\n",
    "import pickle\n",
    "import _pickle as cPickle\n",
    "import numpy as np\n",
    "\n",
    "# load Classifier\n",
    "model_name = \"BoW_20220906-2143\"\n",
    "model_path = os.path.join(r\"C:\\Users\\jjnunez\\PycharmProjects\\scar_nlp_survival\\results\\surv_mo_6\\BoW\", model_name + \"_e0.pbz2\")\n",
    "\n",
    "data = bz2.BZ2File(model_path, 'rb')\n",
    "clf = cPickle.load(data)\n",
    "\n",
    "print(clf)\n",
    "print(clf.coef_, clf.intercept_)\n",
    "\n",
    "coefs = clf.coef_[0]\n",
    "\n"
   ]
  },
  {
   "cell_type": "code",
   "execution_count": 3,
   "id": "1b2ee78e",
   "metadata": {},
   "outputs": [
    {
     "name": "stdout",
     "output_type": "stream",
     "text": [
      "5000\n"
     ]
    }
   ],
   "source": [
    "# Load Vectorizer to extract tokens\n",
    "v_path = os.path.join(r\"C:\\Users\\jjnunez\\PycharmProjects\\scar_nlp_data\\data\\surv_mo_6\", \"vectorizer_5000.bz2\")\n",
    "data = bz2.BZ2File(v_path, 'rb')\n",
    "\n",
    "v = cPickle.load(data)  \n",
    "vocab_dict = v.vocabulary_ # dictionary with the tokens as keys, indeces as items\n",
    "idx_dict = dict(map(reversed, vocab_dict.items()))  # dictionary with indeces as keys, tokens as items \n",
    "\n",
    "print(len(idx_dict))\n",
    "\n",
    "\n"
   ]
  },
  {
   "cell_type": "code",
   "execution_count": 4,
   "id": "8514c0c0",
   "metadata": {},
   "outputs": [
    {
     "name": "stdout",
     "output_type": "stream",
     "text": [
      "0.03930320881584248 0.5959163561466883 0.9356221625921801 0.3382685818347265\n",
      "[3414 3614 3964 2355 4724 3216 3717 2984 4274  986]\n",
      "-palliat\n",
      "-poor\n",
      "+risk\n",
      "-hospit\n",
      "-unfortun\n",
      "+no\n",
      "+prostat\n",
      "-metastat\n",
      "+stage\n",
      "+breast\n"
     ]
    }
   ],
   "source": [
    "# Find top tokens\n",
    "n =  10\n",
    "\n",
    "abs_coef = np.absolute(coefs)\n",
    "print(f\"{abs_coef[3411]} {abs_coef[2980]} {abs_coef[3962]} {abs_coef[3123]}\")\n",
    "\n",
    "largest_n_idx = abs_coef.argsort()[::-1][:n]\n",
    "\n",
    "print(largest_n_idx)\n",
    "\n",
    "for idx in largest_n_idx:\n",
    "    if coefs[idx] >= 0:\n",
    "        sign = '+'\n",
    "    else:\n",
    "        sign = '-'\n",
    "        \n",
    "    print(sign+ idx_dict[idx])\n"
   ]
  },
  {
   "cell_type": "code",
   "execution_count": null,
   "id": "d187b036",
   "metadata": {},
   "outputs": [],
   "source": []
  }
 ],
 "metadata": {
  "kernelspec": {
   "display_name": "Python 3 (ipykernel)",
   "language": "python",
   "name": "python3"
  },
  "language_info": {
   "codemirror_mode": {
    "name": "ipython",
    "version": 3
   },
   "file_extension": ".py",
   "mimetype": "text/x-python",
   "name": "python",
   "nbconvert_exporter": "python",
   "pygments_lexer": "ipython3",
   "version": "3.9.7"
  }
 },
 "nbformat": 4,
 "nbformat_minor": 5
}
