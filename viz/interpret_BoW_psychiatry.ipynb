{
 "cells": [
  {
   "cell_type": "code",
   "execution_count": 1,
   "id": "fe216e5a",
   "metadata": {},
   "outputs": [
    {
     "name": "stdout",
     "output_type": "stream",
     "text": [
      "LogisticRegression(C=0.6, class_weight='balanced', max_iter=1000)\n",
      "[[ 0.3830503   0.96019344 -0.11939741 ...  2.38965879  0.40938365\n",
      "  -0.59607496]] [-5.1574688]\n"
     ]
    }
   ],
   "source": [
    "import os\n",
    "import sys\n",
    "sys.path.insert(0, os.path.abspath('../'))\n",
    "import bz2\n",
    "import pickle\n",
    "import _pickle as cPickle\n",
    "import numpy as np\n",
    "\n",
    "# load Classifier\n",
    "model_name = \"BoW_20230220-1206\"\n",
    "model_path = os.path.join(r\"C:\\Users\\jjnunez\\PycharmProjects\\scar_nlp_psych\\results\\final_results\\dspln_PSYCHIATRY_12\\BoW\", model_name + \"_e0.pbz2\")\n",
    "\n",
    "data = bz2.BZ2File(model_path, 'rb')\n",
    "clf = cPickle.load(data)\n",
    "\n",
    "print(clf)\n",
    "print(clf.coef_, clf.intercept_)\n",
    "\n",
    "coefs = clf.coef_[0]\n",
    "\n"
   ]
  },
  {
   "cell_type": "code",
   "execution_count": 2,
   "id": "1b2ee78e",
   "metadata": {},
   "outputs": [
    {
     "name": "stdout",
     "output_type": "stream",
     "text": [
      "5000\n"
     ]
    }
   ],
   "source": [
    "# Load Vectorizer to extract tokens\n",
    "v_path = os.path.join(r\"C:\\Users\\jjnunez\\PycharmProjects\\scar_nlp_data\\data\\dspln_PSYCHIATRY_12\", \"vectorizer_5000.bz2\")\n",
    "data = bz2.BZ2File(v_path, 'rb')\n",
    "\n",
    "v = cPickle.load(data)  \n",
    "vocab_dict = v.vocabulary_ # dictionary with the tokens as keys, indeces as items\n",
    "idx_dict = dict(map(reversed, vocab_dict.items()))  # dictionary with indeces as keys, tokens as items \n",
    "\n",
    "print(len(idx_dict))\n",
    "\n",
    "\n"
   ]
  },
  {
   "cell_type": "code",
   "execution_count": 3,
   "id": "8514c0c0",
   "metadata": {},
   "outputs": [
    {
     "name": "stdout",
     "output_type": "stream",
     "text": [
      "0.4531953303294367 0.05653975459583257 0.2614381433341247 0.47230151766393436\n",
      "[1539  711 1394 3735   19  712 3788 4326 2907 3115]\n",
      "depress\tpositive\n",
      "anxieti\tpositive\n",
      "counsel\tpositive\n",
      "psychiatrist\tpositive\n",
      "1\tpositive\n",
      "anxious\tpositive\n",
      "radiat\tnegative\n",
      "stress\tpositive\n",
      "matern\tpositive\n",
      "myeloma\tpositive\n"
     ]
    }
   ],
   "source": [
    "# Find top tokens\n",
    "n = 10\n",
    "\n",
    "abs_coef = np.absolute(coefs)\n",
    "print(f\"{abs_coef[3411]} {abs_coef[2980]} {abs_coef[3962]} {abs_coef[3123]}\")\n",
    "\n",
    "largest_n_idx = abs_coef.argsort()[::-1][:n]\n",
    "\n",
    "print(largest_n_idx)\n",
    "\n",
    "for idx in largest_n_idx:\n",
    "    if coefs[idx] >= 0:\n",
    "        sign = 'positive'\n",
    "    else:\n",
    "        sign = 'negative'\n",
    "        \n",
    "    print(idx_dict[idx] + \"\\t\" + sign)\n"
   ]
  },
  {
   "cell_type": "code",
   "execution_count": null,
   "id": "d187b036",
   "metadata": {},
   "outputs": [],
   "source": []
  }
 ],
 "metadata": {
  "kernelspec": {
   "display_name": "Python 3 (ipykernel)",
   "language": "python",
   "name": "python3"
  },
  "language_info": {
   "codemirror_mode": {
    "name": "ipython",
    "version": 3
   },
   "file_extension": ".py",
   "mimetype": "text/x-python",
   "name": "python",
   "nbconvert_exporter": "python",
   "pygments_lexer": "ipython3",
   "version": "3.9.7"
  }
 },
 "nbformat": 4,
 "nbformat_minor": 5
}
