{
 "cells": [
  {
   "cell_type": "code",
   "execution_count": 1,
   "id": "fe216e5a",
   "metadata": {},
   "outputs": [
    {
     "name": "stdout",
     "output_type": "stream",
     "text": [
      "LogisticRegression(C=1, class_weight='balanced', max_iter=1000)\n",
      "[[ 0.28112525 -1.26730374  1.02149694 ... -1.04077452 -0.02222965\n",
      "   0.01925143]] [0.65656308]\n"
     ]
    }
   ],
   "source": [
    "import os\n",
    "import sys\n",
    "sys.path.insert(0, os.path.abspath('../'))\n",
    "import bz2\n",
    "import pickle\n",
    "import _pickle as cPickle\n",
    "import numpy as np\n",
    "\n",
    "# load Classifier\n",
    "model_path = os.path.join(r\"C:\\Users\\jjnunez\\PycharmProjects\\scar_nlp_survival\\results\\surv_mo_60\\BoW\", \"BoW_20220906-2232\" + \"_e0.pbz2\")\n",
    "\n",
    "data = bz2.BZ2File(model_path, 'rb')\n",
    "clf = cPickle.load(data)\n",
    "\n",
    "print(clf)\n",
    "print(clf.coef_, clf.intercept_)\n",
    "\n",
    "coefs = clf.coef_[0]\n",
    "\n"
   ]
  },
  {
   "cell_type": "code",
   "execution_count": 2,
   "id": "1b2ee78e",
   "metadata": {},
   "outputs": [
    {
     "name": "stdout",
     "output_type": "stream",
     "text": [
      "5000\n"
     ]
    }
   ],
   "source": [
    "# Load Vectorizer to extract tokens\n",
    "v_path = os.path.join(r\"C:\\Users\\jjnunez\\PycharmProjects\\scar_nlp_data\\data\\surv_mo_60\", \"vectorizer_5000.bz2\")\n",
    "data = bz2.BZ2File(v_path, 'rb')\n",
    "\n",
    "v = cPickle.load(data)  \n",
    "vocab_dict = v.vocabulary_ # dictionary with the tokens as keys, indeces as items\n",
    "idx_dict = dict(map(reversed, vocab_dict.items()))  # dictionary with indeces as keys, tokens as items \n",
    "\n",
    "print(len(idx_dict))\n",
    "\n",
    "\n"
   ]
  },
  {
   "cell_type": "code",
   "execution_count": 4,
   "id": "8514c0c0",
   "metadata": {},
   "outputs": [
    {
     "name": "stdout",
     "output_type": "stream",
     "text": [
      "7.691240359091646 5.669853635890873 5.180188071757963 3.6718161539653873\n",
      "[3411 2980 3962 2788 3612 2158 3212 2824 1524 3123]\n",
      "-palliat\n",
      "-metastat\n",
      "+risk\n",
      "-liver\n",
      "-poor\n",
      "-glioblastoma\n",
      "+no\n",
      "-lung\n",
      "-dementia\n",
      "+n0\n"
     ]
    }
   ],
   "source": [
    "# Find top tokens\n",
    "n =  10\n",
    "\n",
    "abs_coef = np.absolute(coefs)\n",
    "print(f\"{abs_coef[3411]} {abs_coef[2980]} {abs_coef[3962]} {abs_coef[3123]}\")\n",
    "\n",
    "largest_n_idx = abs_coef.argsort()[::-1][:n]\n",
    "\n",
    "print(largest_n_idx)\n",
    "\n",
    "for idx in largest_n_idx:\n",
    "    if coefs[idx] >= 0:\n",
    "        sign = '+'\n",
    "    else:\n",
    "        sign = '-'\n",
    "        \n",
    "    print(sign+ idx_dict[idx])\n"
   ]
  },
  {
   "cell_type": "code",
   "execution_count": null,
   "id": "d187b036",
   "metadata": {},
   "outputs": [],
   "source": []
  }
 ],
 "metadata": {
  "kernelspec": {
   "display_name": "Python 3 (ipykernel)",
   "language": "python",
   "name": "python3"
  },
  "language_info": {
   "codemirror_mode": {
    "name": "ipython",
    "version": 3
   },
   "file_extension": ".py",
   "mimetype": "text/x-python",
   "name": "python",
   "nbconvert_exporter": "python",
   "pygments_lexer": "ipython3",
   "version": "3.9.7"
  }
 },
 "nbformat": 4,
 "nbformat_minor": 5
}
